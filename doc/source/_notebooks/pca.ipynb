{
 "metadata": {
  "name": "pca"
 },
 "nbformat": 3,
 "nbformat_minor": 0,
 "worksheets": [
  {
   "cells": [
    {
     "cell_type": "heading",
     "level": 1,
     "metadata": {},
     "source": [
      "Example: Principal component analysis"
     ]
    },
    {
     "cell_type": "markdown",
     "metadata": {},
     "source": [
      "Yeah."
     ]
    },
    {
     "cell_type": "code",
     "collapsed": false,
     "input": [
      "from bayespy.nodes import GaussianARD\n",
      "GaussianARD(0, 1)"
     ],
     "language": "python",
     "metadata": {},
     "outputs": [
      {
       "output_type": "pyout",
       "prompt_number": 1,
       "text": [
        "<bayespy.inference.vmp.nodes.gaussian.GaussianARD at 0x7fa3343bce90>"
       ]
      }
     ],
     "prompt_number": 1
    }
   ],
   "metadata": {}
  }
 ]
}