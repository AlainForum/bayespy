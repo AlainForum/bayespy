{
 "metadata": {
  "name": "",
  "signature": "sha256:6f820450200a7bf6e95dfd78b3e8deee671873981a9a0192f044d9c6901999e4"
 },
 "nbformat": 3,
 "nbformat_minor": 0,
 "worksheets": [
  {
   "cells": [
    {
     "cell_type": "heading",
     "level": 1,
     "metadata": {},
     "source": [
      "Bernoulli mixture model"
     ]
    },
    {
     "cell_type": "markdown",
     "metadata": {},
     "source": [
      "blaa blaa blaa"
     ]
    },
    {
     "cell_type": "code",
     "collapsed": false,
     "input": [
      "import numpy as np\n",
      "D = 10\n",
      "p0 = [0.1, 0.9, 0.1, 0.9, 0.1, 0.9, 0.1, 0.9, 0.1, 0.9]\n",
      "p1 = [0.1, 0.2, 0.3, 0.4, 0.5, 0.6, 0.7, 0.8, 0.9, 1.0]\n",
      "p2 = [1.0, 0.9, 0.8, 0.7, 0.6, 0.5, 0.4, 0.3, 0.2, 0.1]\n",
      "p = np.array([p0, p1, p2])\n",
      "from bayespy.utils import random\n",
      "N = 100\n",
      "z = random.categorical([1/3, 1/3, 1/3], size=N)\n",
      "x = random.bernoulli(p[z])"
     ],
     "language": "python",
     "metadata": {},
     "outputs": [],
     "prompt_number": 1
    },
    {
     "cell_type": "code",
     "collapsed": false,
     "input": [
      "from bayespy.nodes import Categorical, Dirichlet\n",
      "K = 5\n",
      "R = Dirichlet(K*[1e-3],\n",
      "              name='R')\n",
      "Z = Categorical(R,\n",
      "                plates=(N,1),\n",
      "                name='Z')\n",
      "\n",
      "from bayespy.nodes import Mixture, Bernoulli, Beta\n",
      "P = Beta([1e-1, 1e-1],\n",
      "         plates=(D,K),\n",
      "         name='P')\n",
      "X = Mixture(Z, Bernoulli, P)\n",
      "\n",
      "X.observe(x)\n",
      "\n",
      "from bayespy.inference import VB\n",
      "Q = VB(Z, R, X, P)\n",
      "P.initialize_from_random()\n",
      "\n",
      "Q.update(repeat=10)"
     ],
     "language": "python",
     "metadata": {},
     "outputs": [
      {
       "output_type": "stream",
       "stream": "stdout",
       "text": [
        "Iteration 1: loglike=-7.999065e+02 (0.000 seconds)\n",
        "Iteration 2: loglike=-7.518457e+02 (0.000 seconds)\n",
        "Iteration 3: loglike=-7.234529e+02 (0.000 seconds)\n",
        "Iteration 4: loglike=-7.052385e+02 (0.000 seconds)\n",
        "Iteration 5: loglike=-6.962540e+02 (0.000 seconds)\n",
        "Iteration 6: loglike=-6.863324e+02 (0.010 seconds)\n",
        "Iteration 7: loglike=-6.852803e+02 (0.000 seconds)\n",
        "Iteration 8: loglike=-6.851665e+02 (0.000 seconds)\n",
        "Iteration 9: loglike=-6.851323e+02 (0.000 seconds)\n",
        "Iteration 10: loglike=-6.851190e+02 (0.000 seconds)\n"
       ]
      }
     ],
     "prompt_number": 2
    },
    {
     "cell_type": "code",
     "collapsed": false,
     "input": [
      "from bayespy.plot.plotting as bpplt\n",
      "bpplt."
     ],
     "language": "python",
     "metadata": {},
     "outputs": [],
     "prompt_number": 2
    }
   ],
   "metadata": {}
  }
 ]
}