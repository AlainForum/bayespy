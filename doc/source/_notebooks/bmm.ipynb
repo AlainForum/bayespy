{
 "metadata": {
  "name": "",
  "signature": "sha256:cbab5a206c7c27950c87cd0807d11ad3f68a2eed4bff473677be848debf05fff"
 },
 "nbformat": 3,
 "nbformat_minor": 0,
 "worksheets": [
  {
   "cells": [
    {
     "cell_type": "heading",
     "level": 1,
     "metadata": {},
     "source": [
      "Bernoulli mixture model"
     ]
    },
    {
     "cell_type": "markdown",
     "metadata": {},
     "source": [
      "blaa blaa blaa"
     ]
    },
    {
     "cell_type": "code",
     "collapsed": false,
     "input": [
      "from bayespy.nodes import (Mixture,\n",
      "                            Bernoulli,\n",
      "                            Beta,\n",
      "                            Categorical,\n",
      "                            Dirichlet)\n",
      "q = Dirichlet(K*[1e-3],\n",
      "              name='q')\n",
      "Z = Categorical(q,\n",
      "                plates=(N,1),\n",
      "                name='Z')\n",
      "\n",
      "p = Beta([1e-3, 1e-3],\n",
      "         plates=(D,K),\n",
      "         name='p')\n",
      "X = Mixture(Z, Bernoulli, p)\n",
      "\n",
      "X.observe(data)\n",
      "\n",
      "Q = VB(Z, q, X, p)\n",
      "p.initialize_from_random()\n",
      "\n",
      "Q.update(repeat=10)"
     ],
     "language": "python",
     "metadata": {},
     "outputs": []
    }
   ],
   "metadata": {}
  }
 ]
}