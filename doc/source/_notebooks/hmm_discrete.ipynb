{
 "metadata": {
  "name": "",
  "signature": "sha256:d7af98f5d5248adaaa0c934d8f9f81216508742a9c5beab4c481db938d3138e0"
 },
 "nbformat": 3,
 "nbformat_minor": 0,
 "worksheets": [
  {
   "cells": [
    {
     "cell_type": "heading",
     "level": 1,
     "metadata": {},
     "source": [
      "Discrete hidden Markov model"
     ]
    },
    {
     "cell_type": "code",
     "collapsed": false,
     "input": [
      "from bayespy.nodes import CategoricalMarkovChain, Categorical, Mixture\n",
      "N = 100\n",
      "# Initial state probabilities\n",
      "a0 = [0.6, 0.4]\n",
      "# State transition probabilities\n",
      "A = [[0.7, 0.3],[0.4,0.6]]\n",
      "# Markov chain\n",
      "Z = CategoricalMarkovChain(a0, A, states=N)\n",
      "# Emission probabilities\n",
      "P = [[0.1, 0.4, 0.5], [0.6, 0.3, 0.1]]\n",
      "# Observed process\n",
      "Y = Mixture(Z, Categorical, P)\n",
      "# Generate dummy data\n",
      "import numpy as np\n",
      "data = np.random.randint(3, size=N)\n",
      "# Observe data\n",
      "Y.observe(data)\n",
      "\n",
      "from bayespy.inference import VB\n",
      "Q = VB(Y, Z)\n",
      "\n",
      "Q.update()"
     ],
     "language": "python",
     "metadata": {},
     "outputs": [
      {
       "output_type": "stream",
       "stream": "stdout",
       "text": [
        "Iteration 1: loglike=-1.126645e+02 (0.035 seconds)\n"
       ]
      }
     ],
     "prompt_number": 1
    }
   ],
   "metadata": {}
  }
 ]
}